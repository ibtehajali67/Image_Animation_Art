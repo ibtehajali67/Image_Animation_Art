{
 "cells": [
  {
   "cell_type": "code",
   "execution_count": null,
   "id": "certified-threat",
   "metadata": {},
   "outputs": [],
   "source": [
    "import cv2\n",
    "from PIL import Image\n",
    "import glob\n",
    "import os\n",
    "import numpy as np"
   ]
  },
  {
   "cell_type": "code",
   "execution_count": null,
   "id": "going-palestinian",
   "metadata": {},
   "outputs": [],
   "source": [
    "# U-Net implement for making mask"
   ]
  },
  {
   "cell_type": "code",
   "execution_count": null,
   "id": "accompanied-hudson",
   "metadata": {},
   "outputs": [],
   "source": [
    "!python bg_remover/u2net_test.py"
   ]
  },
  {
   "cell_type": "code",
   "execution_count": null,
   "id": "higher-ghana",
   "metadata": {},
   "outputs": [],
   "source": [
    "#all jpg convert into png"
   ]
  },
  {
   "cell_type": "code",
   "execution_count": null,
   "id": "ruled-portugal",
   "metadata": {},
   "outputs": [],
   "source": [
    "for file in sorted(glob.glob(\"/home/mitho/Documents/ibtehaj/painting-animation/bg_remover/input_image/*.jpg\")):\n",
    "    prefix = file.split(\".jpg\")[0]\n",
    "    im = Image.open(file)\n",
    "    im.save(prefix+'.png')\n",
    "    os.remove(file)"
   ]
  },
  {
   "cell_type": "code",
   "execution_count": null,
   "id": "nervous-april",
   "metadata": {},
   "outputs": [],
   "source": [
    "#Fill the inner part with taking average of side pixel"
   ]
  },
  {
   "cell_type": "code",
   "execution_count": null,
   "id": "canadian-cursor",
   "metadata": {},
   "outputs": [],
   "source": [
    "c = (0, 0, 0, 0)\n",
    "for file in sorted(glob.glob(\"/home/mitho/Documents/ibtehaj/painting-animation/bg_remover/mask/*.png\")):\n",
    "    print(file)\n",
    "    im = Image.open(file).convert('RGBA')\n",
    "    ni = np.array(im)\n",
    "    width ,height =im.size\n",
    "    ni[np.where(np.all(ni==[0,0,0,255],axis=2))]=[0,0,0,0]\n",
    "    ni[np.where(np.all(ni!=[0,0,0,0],axis=2))]=[255,255,255,255]\n",
    "    y,x = np.where(np.all(ni != c, axis=-1))\n",
    "    b=int((max(y)-min(y))/2)\n",
    "    t=np.unique(y)\n",
    "    t = t[::-1]\n",
    "#     for file_1 in sorted(glob.glob(\"/home/mitho/Documents/ibtehaj/painting-animation/bg_remover/input_image/*.png\")):\n",
    "    file_1=\"/home/mitho/Documents/ibtehaj/painting-animation/bg_remover/input_image/\"+os.path.basename(file)\n",
    "    if os.path.basename(file)==os.path.basename(file_1):\n",
    "        print(file_1)\n",
    "        img=cv2.imread(file_1)   \n",
    "        for i in set(y):    \n",
    "            if(i<=b):\n",
    "                s=np.where(y==i)\n",
    "                m=i\n",
    "                s=s[0]\n",
    "                e=int(len(s)/2)\n",
    "                q=s[::-1]\n",
    "                #right upper\n",
    "                for j in range(0,e+1):\n",
    "                    n=x[q[j]]\n",
    "            #             print(m,n)\n",
    "                    if(n>=(width-6) and m>6):\n",
    "                        img[m,n]= np.average((img[m,n-1],img[m,n-2],img[m,n-3],img[m-4,n],img[m,n-4],img[m-5,n],img[m,n-5],img[m-6,n],img[m,n-6],img[m-1,n],img[m-2,n],img[m-3,n]), axis=0)\n",
    "                    elif(m<=6 and n<(width-60)):\n",
    "                        img[m,n]= np.average((img[m,n+1],img[m,n+2],img[m,n+3],img[m+4,n],img[m,n+4],img[m+5,n],img[m,n+5],img[m+6,n],img[m,n+6],img[m+1,n],img[m+2,n],img[m,n+3]), axis=0)\n",
    "                    elif((m<=6) and n>=(width-6)):\n",
    "                        img[m,n]= np.average((img[m,n-1],img[m,n-2],img[m,n-3],img[m+4,n],img[m,n-4],img[m+5,n],img[m,n-5],img[m+6,n],img[m,n-6],img[m+1,n],img[m+2,n],img[m+3,n]), axis=0)\n",
    "                    else:\n",
    "                        img[m,n]= np.average((img[m,n+1],img[m,n+2],img[m,n+3],img[m-4,n],img[m,n+4],img[m-5,n],img[m,n+5],img[m-6,n],img[m,n+6],img[m-1,n],img[m-2,n],img[m-3,n]), axis=0)\n",
    "                    #left upper\n",
    "                for j in range(0,e):\n",
    "                    n=x[s[j]]\n",
    "                    if(n<=6 and m>6):\n",
    "                        img[m,n]= np.average((img[m,n+1],img[m,n+2],img[m,n+3],img[m-4,n],img[m,n+4],img[m-5,n],img[m,n+5],img[m-6,n],img[m,n+6],img[m-1,n],img[m-2,n],img[m-3,n]), axis=0) \n",
    "                    elif(m<=6 and n>6):\n",
    "                        img[m,n]= np.average((img[m,n-1],img[m,n-2],img[m,n-3],img[m+4,n],img[m,n-4],img[m+5,n],img[m,n-5],img[m+6,n],img[m,n-6],img[m+1,n],img[m+2,n],img[m+3,n]), axis=0)\n",
    "                    elif(m<=6 and n<=6):\n",
    "                        img[m,n]= np.average((img[m,n+1],img[m,n+2],img[m,n+3],img[m+4,n],img[m,n+4],img[m+5,n],img[m,n+5],img[m+6,n],img[m,n+6],img[m+1,n],img[m+2,n],img[m+3,n]), axis=0)\n",
    "                    else:\n",
    "                        img[m,n]= np.average((img[m,n-1],img[m,n-2],img[m,n-3],img[m-4,n],img[m,n-4],img[m-5,n],img[m,n-5],img[m-6,n],img[m,n-6],img[m-1,n],img[m-2,n],img[m-3,n]), axis=0)\n",
    "        for i in t:\n",
    "            if(i>b):\n",
    "                s=np.where(y==i)\n",
    "                m=i\n",
    "                s=s[0]\n",
    "                e=int(len(s)/2)\n",
    "                q=s[::-1]\n",
    "                    #right bottom\n",
    "                for j in range(0,e+1):\n",
    "                    n=x[q[j]]\n",
    "                    if(n>=(width-6) and m<(height-6)):\n",
    "                        img[m,n]= np.average((img[m,n-1],img[m,n-2],img[m,n-3],img[m+4,n],img[m,n-4],img[m+5,n],img[m,n-5],img[m+6,n],img[m,n-6],img[m+1,n],img[m+2,n],img[m+3,n]), axis=0)\n",
    "                    elif(m>=(height-6) and n<(width-6)):\n",
    "                        img[m,n]= np.average((img[m,n+1],img[m,n+2],img[m,n+3],img[m-4,n],img[m,n+4],img[m-5,n],img[m,n+5],img[m-6,n],img[m,n+6],img[m-1,n],img[m-2,n],img[m-3,n]), axis=0)\n",
    "                    elif(n>=(width-6) and m>=(height-6)):\n",
    "                        img[m,n]= np.average((img[m,n-1],img[m,n-2],img[m,n-3],img[m-4,n],img[m,n-4],img[m-5,n],img[m,n-5],img[m-6,n],img[m,n-6],img[m-1,n],img[m-2,n],img[m-3,n]), axis=0)\n",
    "                    else:\n",
    "                        img[m,n]= np.average((img[m,n+1],img[m,n+2],img[m,n+3],img[m+4,n],img[m,n+4],img[m+5,n],img[m,n+5],img[m+6,n],img[m,n+6],img[m+1,n],img[m+2,n],img[m+3,n]), axis=0)\n",
    "                        #left bottom\n",
    "                for j in range(0,e):\n",
    "                    n=x[s[j]]\n",
    "                    if(n<=6 and m<(height-6)):\n",
    "                        img[m,n]= np.average((img[m,n+1],img[m,n+2],img[m,n+3],img[m+4,n],img[m,n+4],img[m+5,n],img[m,n+5],img[m+6,n],img[m,n+6],img[m+1,n],img[m+2,n],img[m+3,n]), axis=0)\n",
    "                    elif(m>=(height-6) and n>6):\n",
    "                        img[m,n]= np.average((img[m,n-1],img[m,n-2],img[m,n-3],img[m-4,n],img[m,n-4],img[m-5,n],img[m,n-5],img[m-6,n],img[m,n-6],img[m-1,n],img[m-2,n],img[m-3,n]), axis=0)\n",
    "                    elif(m>=(height-6) and n<=6):\n",
    "                        img[m,n]= np.average((img[m,n+1],img[m,n+2],img[m,n+3],img[m-4,n],img[m,n+4],img[m-5,n],img[m,n+5],img[m-6,n],img[m,n+6],img[m-1,n],img[m-2,n],img[m-3,n]), axis=0)\n",
    "                    else:\n",
    "                        img[m,n]= np.average((img[m,n-1],img[m,n-2],img[m,n-3],img[m+4,n],img[m,n-4],img[m+5,n],img[m,n-5],img[m+6,n],img[m,n-6],img[m+1,n],img[m+2,n],img[m+3,n]), axis=0)\n",
    "    cv2.imwrite(\"/home/mitho/Documents/ibtehaj/painting-animation/inputs/input/\"+os.path.basename(file),img) "
   ]
  },
  {
   "cell_type": "code",
   "execution_count": null,
   "id": "encouraging-logic",
   "metadata": {},
   "outputs": [],
   "source": [
    "# Animation Implement on images and convert into three dufferent videoes "
   ]
  },
  {
   "cell_type": "code",
   "execution_count": null,
   "id": "trying-grain",
   "metadata": {},
   "outputs": [],
   "source": [
    "import os\n",
    "input_folder = 'inputs/input'\n",
    "for file in os.listdir(input_folder):\n",
    "    if file.endswith(('.jpg','.png','.jpeg')):\n",
    "        print('Processing : ',file)\n",
    "        input_file_path = os.path.join(input_folder,file)\n",
    "        !python test.py --gpu 0 -i $input_file_path -o ./outputs/output"
   ]
  },
  {
   "cell_type": "code",
   "execution_count": null,
   "id": "regulated-settlement",
   "metadata": {},
   "outputs": [],
   "source": [
    "#if file already exist then pass and work"
   ]
  },
  {
   "cell_type": "code",
   "execution_count": null,
   "id": "sufficient-hawaii",
   "metadata": {},
   "outputs": [],
   "source": [
    "import os\n",
    "input_folder = 'inputs/input'\n",
    "output_f='outputs/output/'\n",
    "for file in os.listdir(input_folder):\n",
    "    if file.endswith(('.jpg','.png','.jpeg')):\n",
    "        prefix = file.split(\".png\")[0]\n",
    "        i_file = prefix + \".avi\"\n",
    "        print(output_f+i_file)\n",
    "        if os.path.exists(output_f+i_file):\n",
    "            pass\n",
    "        else:\n",
    "            print('Processing : ',file)\n",
    "            input_file_path = os.path.join(input_folder,file)\n",
    "            !python test.py --gpu 0 -i $input_file_path -o ./outputs/output    "
   ]
  },
  {
   "cell_type": "code",
   "execution_count": null,
   "id": "bronze-joint",
   "metadata": {},
   "outputs": [],
   "source": [
    "#for image paste on video"
   ]
  },
  {
   "cell_type": "code",
   "execution_count": null,
   "id": "short-glucose",
   "metadata": {},
   "outputs": [],
   "source": [
    "c=[0,0,0,0]\n",
    "for file in sorted(glob.glob(\"/home/mitho/Documents/ibtehaj/painting-animation/bg_remover/mask/*.png\")):\n",
    "    print(file)\n",
    "    mi=Image.open(file)\n",
    "    mi=mi.convert('RGBA')\n",
    "    prefix = os.path.basename(file).split(\".png\")[0]    \n",
    "    cap=cv2.VideoCapture('outputs/output/'+ prefix + '_motion.avi')\n",
    "    if cap.isOpened():\n",
    "            frame_width  = int(cap.get(3))\n",
    "            frame_height = int(cap.get(4))\n",
    "    size=(frame_width,frame_height)\n",
    "    mi=mi.resize(size)\n",
    "    ni = np.array(mi)\n",
    "    ni[np.where(np.all(ni==[0,0,0,255],axis=2))]=[0,0,0,0]\n",
    "    ni[np.where(np.all(ni!=[0,0,0,0],axis=2))]=[255,255,255,255]\n",
    "    y,x = np.where(np.all(ni != c, axis=-1))\n",
    "    file_1=\"/home/mitho/Documents/ibtehaj/painting-animation/bg_remover/input_image/\"+os.path.basename(file)\n",
    "    if os.path.basename(file)==os.path.basename(file_1):\n",
    "        img=cv2.imread(file_1)    \n",
    "        img=cv2.resize(img,size)\n",
    "        out = cv2.VideoWriter('result/'+ prefix +'.avi', \n",
    "                   cv2.VideoWriter_fourcc(*'XVID'),\n",
    "                         30, size)\n",
    "        while(True):\n",
    "            ret, frame = cap.read()\n",
    "            try:\n",
    "                frame[y,x]=img[y,x]\n",
    "                frame=cv2.resize(frame,size)\n",
    "                out.write(frame)\n",
    "                if cv2.waitKey(20) & 0xFF == 27:\n",
    "                    break\n",
    "            except:\n",
    "                break\n",
    "        cap.release()\n",
    "        cv2.destroyAllWindows()"
   ]
  },
  {
   "cell_type": "code",
   "execution_count": null,
   "id": "scheduled-joseph",
   "metadata": {},
   "outputs": [],
   "source": []
  }
 ],
 "metadata": {
  "kernelspec": {
   "display_name": "Python 3",
   "language": "python",
   "name": "python3"
  },
  "language_info": {
   "codemirror_mode": {
    "name": "ipython",
    "version": 3
   },
   "file_extension": ".py",
   "mimetype": "text/x-python",
   "name": "python",
   "nbconvert_exporter": "python",
   "pygments_lexer": "ipython3",
   "version": "3.6.9"
  }
 },
 "nbformat": 4,
 "nbformat_minor": 5
}
